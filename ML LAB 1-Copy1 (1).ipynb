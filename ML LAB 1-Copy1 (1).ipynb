{
 "cells": [
  {
   "cell_type": "markdown",
   "id": "d34e26a8",
   "metadata": {},
   "source": [
    "<h2>LAB 1<h2>\n"
   ]
  },
  {
   "cell_type": "code",
   "execution_count": 60,
   "id": "5f6adeaa",
   "metadata": {},
   "outputs": [
    {
     "data": {
      "text/latex": [
       "$\\displaystyle \\left[\\begin{matrix}2\\\\0\\\\1\\end{matrix}\\right]$"
      ],
      "text/plain": [
       "Matrix([\n",
       "[2],\n",
       "[0],\n",
       "[1]])"
      ]
     },
     "execution_count": 60,
     "metadata": {},
     "output_type": "execute_result"
    }
   ],
   "source": [
    "#Assignment 1\n",
    "\n",
    "import numpy as np\n",
    "from sympy import *\n",
    "\n",
    "V1 = Matrix([2,0,1])\n",
    "V2 = Matrix([0.9,5,-2])\n",
    "A = Matrix([[2 ,3, 1],[1, -2, 4],[-3, 0, 5]])\n",
    "V1\n",
    "\n"
   ]
  },
  {
   "cell_type": "code",
   "execution_count": 8,
   "id": "2eae3bcf",
   "metadata": {},
   "outputs": [
    {
     "data": {
      "text/latex": [
       "$\\displaystyle \\left[\\begin{matrix}3.1\\\\-5\\\\4\\end{matrix}\\right]$"
      ],
      "text/plain": [
       "Matrix([\n",
       "[3.1],\n",
       "[ -5],\n",
       "[  4]])"
      ]
     },
     "execution_count": 8,
     "metadata": {},
     "output_type": "execute_result"
    }
   ],
   "source": [
    "#2𝑉1 − 𝑉2\n",
    "a = 2*V1 - V2\n",
    "a"
   ]
  },
  {
   "cell_type": "code",
   "execution_count": 61,
   "id": "65f4272f",
   "metadata": {},
   "outputs": [
    {
     "name": "stdout",
     "output_type": "stream",
     "text": [
      "Result: -0.5999999999999996\n"
     ]
    }
   ],
   "source": [
    "#b)3𝑉1. 𝑉2\n",
    "import numpy as np\n",
    "\n",
    "# Define vectors V1 and V2\n",
    "V1 = np.array([2, 0, 1])\n",
    "V2 = np.array([0.9, 5, -2])\n",
    "\n",
    "# Calculate 3V1.V2\n",
    "result = np.dot(3 * V1, V2)\n",
    "\n",
    "print(\"Result:\", result)"
   ]
  },
  {
   "cell_type": "code",
   "execution_count": 56,
   "id": "afa9afef",
   "metadata": {},
   "outputs": [
    {
     "data": {
      "text/latex": [
       "$\\displaystyle \\left[\\begin{matrix}14.8\\\\-17.1\\\\-12.7\\end{matrix}\\right]$"
      ],
      "text/plain": [
       "Matrix([\n",
       "[ 14.8],\n",
       "[-17.1],\n",
       "[-12.7]])"
      ]
     },
     "execution_count": 56,
     "metadata": {},
     "output_type": "execute_result"
    }
   ],
   "source": [
    "#(c) 𝐴𝑣2\n",
    "\n",
    "c = A*V2\n",
    "c"
   ]
  },
  {
   "cell_type": "code",
   "execution_count": 53,
   "id": "bd30cc39",
   "metadata": {},
   "outputs": [
    {
     "data": {
      "text/plain": [
       "array([[12.8000000000000],\n",
       "       [-7.30000000000000],\n",
       "       [10.9000000000000]], dtype=object)"
      ]
     },
     "execution_count": 53,
     "metadata": {},
     "output_type": "execute_result"
    }
   ],
   "source": [
    "#d)𝐴^T V2\n",
    "\n",
    "A = Matrix([[2 ,3, 1],[1, -2, 4],[-3, 0, 5]])\n",
    "\n",
    "V2 = Matrix([0.9,5,-2])\n",
    "\n",
    "\n",
    "\n",
    "# Calculating A^T * v2\n",
    "result = dot(transpose(A), V2)\n",
    "result"
   ]
  },
  {
   "cell_type": "code",
   "execution_count": 2,
   "id": "aeb71099",
   "metadata": {},
   "outputs": [
    {
     "name": "stdout",
     "output_type": "stream",
     "text": [
      "Eigenvalues:\n",
      "[ 2.85577251e+00 -2.17740968e+00  1.60982252e-16  3.21637174e-01\n",
      " -1.00000000e+00]\n",
      "\n",
      "Eigenvectors:\n",
      "[[ 4.55798558e-01  5.24424725e-01 -7.07106781e-01  1.31249313e-01\n",
      "  -9.02599295e-17]\n",
      " [ 4.91222449e-01 -3.30095756e-01 -1.57006020e-16 -3.86959038e-01\n",
      "   7.07106781e-01]\n",
      " [ 4.91222449e-01 -3.30095756e-01 -1.04244497e-16 -3.86959038e-01\n",
      "  -7.07106781e-01]\n",
      " [ 3.19212092e-01 -4.81695962e-01  2.81951278e-16  8.16132735e-01\n",
      "   2.56426180e-17]\n",
      " [ 4.55798558e-01  5.24424725e-01  7.07106781e-01  1.31249313e-01\n",
      "  -8.31937601e-17]]\n"
     ]
    }
   ],
   "source": [
    "#Assignment #2\n",
    "\n",
    "#Initialising a 5x5 matrix as there are 5 vertices and taking 1 if there is an edge between vertices and 0 if no edge.\n",
    "\n",
    "#Adjacency matrix for given graph will be below \n",
    "\n",
    "\n",
    "\n",
    "#a) calculating eigenvalues and eigenvectors \n",
    "\n",
    "import numpy as np\n",
    "\n",
    "# Given matrix A\n",
    "Adjacency_matrix = np.array([[0, 1, 1, 1, 0],\n",
    "              [1, 0, 1, 0, 1],\n",
    "              [1, 1, 0, 0, 1],\n",
    "              [1, 0, 0, 0, 1],\n",
    "              [0, 1, 1, 1, 0]])\n",
    "\n",
    "# Calculate eigenvalues and eigenvectors\n",
    "eigenvalues, eigenvectors = np.linalg.eig(Adjacency_matrix)\n",
    "\n",
    "\n",
    "print(\"Eigenvalues:\")\n",
    "print(eigenvalues)\n",
    "print(\"\\nEigenvectors:\")\n",
    "print(eigenvectors)\n",
    "\n",
    "\n"
   ]
  },
  {
   "cell_type": "code",
   "execution_count": 3,
   "id": "c07788d8",
   "metadata": {},
   "outputs": [
    {
     "data": {
      "text/plain": [
       "array([[ 0.00000000e+00,  5.24424725e-01, -7.07106781e-01,\n",
       "         1.31249313e-01, -0.00000000e+00],\n",
       "       [ 4.55798558e-01,  0.00000000e+00, -7.07106781e-01,\n",
       "         0.00000000e+00, -9.02599295e-17],\n",
       "       [ 4.55798558e-01,  5.24424725e-01, -0.00000000e+00,\n",
       "         0.00000000e+00, -9.02599295e-17],\n",
       "       [ 4.55798558e-01,  0.00000000e+00, -0.00000000e+00,\n",
       "         0.00000000e+00, -9.02599295e-17],\n",
       "       [ 0.00000000e+00,  5.24424725e-01, -7.07106781e-01,\n",
       "         1.31249313e-01, -0.00000000e+00]])"
      ]
     },
     "execution_count": 3,
     "metadata": {},
     "output_type": "execute_result"
    }
   ],
   "source": [
    "#b) Multiply the adjacent matrix by the first eigenvector\n",
    "\n",
    "Result = Adjacency_matrix* np.array([ 4.55798558e-01,  5.24424725e-01, -7.07106781e-01,  1.31249313e-01,\n",
    "  -9.02599295e-17])\n",
    "Result"
   ]
  },
  {
   "cell_type": "code",
   "execution_count": 1,
   "id": "3e663ed3",
   "metadata": {},
   "outputs": [
    {
     "name": "stdout",
     "output_type": "stream",
     "text": [
      "Adjacency Matrix:\n",
      "[[0 1 1 1 0]\n",
      " [1 0 1 0 0]\n",
      " [1 1 0 0 0]\n",
      " [1 0 0 0 1]\n",
      " [0 0 0 1 0]]\n",
      "\n",
      "Eigenvalues:\n",
      "[ 2.21431974 -1.67513087 -0.53918887 -1.          1.        ]\n",
      "\n",
      "Eigenvectors:\n",
      "[[-6.03703530e-01 -6.39358276e-01  4.76196433e-01  4.39589287e-16\n",
      "   6.64126721e-17]\n",
      " [-4.97153681e-01  2.39000747e-01 -3.09381416e-01 -7.07106781e-01\n",
      "   3.16227766e-01]\n",
      " [-4.97153681e-01  2.39000747e-01 -3.09381416e-01  7.07106781e-01\n",
      "   3.16227766e-01]\n",
      " [-3.42485284e-01  5.93007291e-01  3.62003014e-01  1.93772370e-16\n",
      "  -6.32455532e-01]\n",
      " [-1.54668397e-01 -3.54006545e-01 -6.71384430e-01 -8.85689923e-17\n",
      "  -6.32455532e-01]]\n",
      "\n",
      "Result of multiplying adjacency matrix by the first eigenvector:\n",
      "[-1.33679265 -1.10085721 -1.10085721 -0.75837193 -0.34248528]\n",
      "\n",
      "Result of λv where λ is the first eigenvalue and v is the first eigenvector:\n",
      "[-1.33679265 -1.10085721 -1.10085721 -0.75837193 -0.34248528]\n"
     ]
    }
   ],
   "source": [
    "#c) Show that 𝐴𝑣 = 𝜆𝑣 , ℎ𝑒𝑟𝑒 𝐴 𝑛𝑥𝑛 𝑚𝑎𝑡𝑟𝑖𝑐, 𝑣 = 𝑒𝑖𝑔𝑒𝑛 𝑣𝑒𝑐𝑡𝑜𝑟, 𝜆 = eigen value\n",
    "\n",
    "\n",
    "import numpy as np\n",
    "\n",
    "# Create the adjacency matrix\n",
    "adjacency_matrix = np.array([\n",
    "    [0, 1, 1, 1, 0],\n",
    "    [1, 0, 1, 0, 0],\n",
    "    [1, 1, 0, 0, 0],\n",
    "    [1, 0, 0, 0, 1],\n",
    "    [0, 0, 0, 1, 0]\n",
    "])\n",
    "\n",
    "# a) Compute eigenvalues and eigenvectors\n",
    "eigenvalues, eigenvectors = np.linalg.eig(adjacency_matrix)\n",
    "\n",
    "# b) Multiply the adjacency matrix by the first eigenvector and first eigenvalue\n",
    "result_b = np.dot(adjacency_matrix, eigenvectors[:, 0])\n",
    "\n",
    "# c) Verify Av = λv\n",
    "result_c = eigenvalues[0] * eigenvectors[:, 0]\n",
    "\n",
    "# Display results\n",
    "print(\"Adjacency Matrix:\")\n",
    "print(adjacency_matrix)\n",
    "print(\"\\nEigenvalues:\")\n",
    "print(eigenvalues)\n",
    "print(\"\\nEigenvectors:\")\n",
    "print(eigenvectors)\n",
    "print(\"\\nResult of multiplying adjacency matrix by the first eigenvector:\")\n",
    "print(result_b)\n",
    "print(\"\\nResult of λv where λ is the first eigenvalue and v is the first eigenvector:\")\n",
    "print(result_c)\n"
   ]
  },
  {
   "cell_type": "code",
   "execution_count": 21,
   "id": "a9045de7",
   "metadata": {},
   "outputs": [
    {
     "name": "stdout",
     "output_type": "stream",
     "text": [
      "Horizontal Merge:\n",
      "   ID      Y1  Y2  ID  X1  X2  X3\n",
      "0   2    John  12   1  10  NY  26\n",
      "1   3    Marc  10   2   9  CO  25\n",
      "2   4     Joe   8   3   8  CT  24\n",
      "3   5   Terry   6   4   7  AZ  23\n",
      "4   6  Micale   4   5   6  LA  22\n",
      "5   7    Naay   2   6   5  TX  21\n",
      "\n",
      "Vertical Merge:\n",
      "    ID      Y1    Y2    X1   X2    X3\n",
      "0    2    John  12.0   NaN  NaN   NaN\n",
      "1    3    Marc  10.0   NaN  NaN   NaN\n",
      "2    4     Joe   8.0   NaN  NaN   NaN\n",
      "3    5   Terry   6.0   NaN  NaN   NaN\n",
      "4    6  Micale   4.0   NaN  NaN   NaN\n",
      "5    7    Naay   2.0   NaN  NaN   NaN\n",
      "6    1     NaN   NaN  10.0   NY  26.0\n",
      "7    2     NaN   NaN   9.0   CO  25.0\n",
      "8    3     NaN   NaN   8.0   CT  24.0\n",
      "9    4     NaN   NaN   7.0   AZ  23.0\n",
      "10   5     NaN   NaN   6.0   LA  22.0\n",
      "11   6     NaN   NaN   5.0   TX  21.0\n"
     ]
    }
   ],
   "source": [
    "#Assignment 2\n",
    "\n",
    "import pandas as pd\n",
    "\n",
    "\n",
    "df1 = pd.DataFrame({'ID': [2, 3, 4, 5, 6, 7], 'Y1': ['John', 'Marc', 'Joe', 'Terry','Micale','Naay'],'Y2': [12,10,8,6,4,2]})\n",
    "df2 = pd.DataFrame({'ID': [1, 2, 3, 4, 5, 6], 'X1': [10, 9, 8, 7, 6, 5], 'X2':['NY','CO','CT','AZ','LA','TX'],'X3':[26, 25, 24, 23, 22, 21]})\n",
    "\n",
    "# Horizontal merge (concatenate along columns)\n",
    "horizontally_merged = pd.concat([df1, df2], axis=1)\n",
    "\n",
    "# Vertical merge (concat along rows)\n",
    "vertically_merged = pd.concat([df1, df2], ignore_index=True)\n",
    "\n",
    "# Display the results\n",
    "print(\"Horizontal Merge:\")\n",
    "print(horizontally_merged)\n",
    "\n",
    "print(\"\\nVertical Merge:\")\n",
    "print(vertically_merged)"
   ]
  },
  {
   "cell_type": "code",
   "execution_count": 18,
   "id": "7c7e1d77",
   "metadata": {},
   "outputs": [
    {
     "data": {
      "image/png": "[encoded data removed]",
      "text/plain": [
       "<Figure size 800x1200 with 3 Axes>"
      ]
     },
     "metadata": {},
     "output_type": "display_data"
    }
   ],
   "source": [
    "#Assignment 3\n",
    "\n",
    "import matplotlib.pyplot as plt\n",
    "\n",
    "\n",
    "a = [1, 2, 3, 4, 5]\n",
    "b = [0, 0.6, 0.2, 15, 10, 8, 16, 21]\n",
    "c = [4, 2, 6, 8, 3, 20, 13, 15]\n",
    "\n",
    "\n",
    "fig, (ax1, ax2, ax3) = plt.subplots(3, 1, figsize=(8, 12))\n",
    "\n",
    "# Plot for 'a' \n",
    "ax1.plot(a, color='blue')\n",
    "ax1.set_title('Plot for a', fontsize=16, color='blue')\n",
    "\n",
    "# Plot for 'b' \n",
    "ax2.plot(b, color='green')\n",
    "ax2.set_title('Plot for b', fontsize=14, color='green')\n",
    "\n",
    "# Plot for 'c' \n",
    "ax3.plot(c, color='red')\n",
    "ax3.set_title('Plot for c', fontsize=12, color='red')\n",
    "\n",
    "# Adjust layout for better spacing\n",
    "plt.tight_layout()\n",
    "\n",
    "# Show the plot\n",
    "plt.show()\n"
   ]
  },
  {
   "cell_type": "code",
   "execution_count": 19,
   "id": "9cbcbcb2",
   "metadata": {},
   "outputs": [
    {
     "name": "stdout",
     "output_type": "stream",
     "text": [
      "Enter a positive integer for 'a': 12\n",
      "Enter a positive integer for 'b' (greater than 'a'): 100\n",
      "Perfect cubes between 12 and 100: [27, 64]\n"
     ]
    }
   ],
   "source": [
    "#Assignment 4\n",
    "\n",
    "def get_perfect_cubes_in_range(a, b):\n",
    "    # Ensure a is less than b\n",
    "    if a >= b:\n",
    "        print(\"Error: a should be less than b.\")\n",
    "        return\n",
    "\n",
    "    # Initialize an empty list to store perfect cubes\n",
    "    perfect_cubes = []\n",
    "\n",
    "    # Find perfect cubes in the range from a to b\n",
    "    for num in range(a, b + 1):\n",
    "        cube_root = round(num ** (1 / 3))\n",
    "        if cube_root ** 3 == num:\n",
    "            perfect_cubes.append(num)\n",
    "\n",
    "    return perfect_cubes\n",
    "\n",
    "# Get user input for 'a' and 'b'\n",
    "a = int(input(\"Enter a positive integer for 'a': \"))\n",
    "b = int(input(\"Enter a positive integer for 'b' (greater than 'a'): \"))\n",
    "\n",
    "# Get and print the collection of perfect cubes\n",
    "result = get_perfect_cubes_in_range(a, b)\n",
    "print(f\"Perfect cubes between {a} and {b}: {result}\")\n"
   ]
  },
  {
   "cell_type": "code",
   "execution_count": null,
   "id": "f865d07b",
   "metadata": {},
   "outputs": [],
   "source": []
  }
 ],
 "metadata": {
  "kernelspec": {
   "display_name": "Python 3 (ipykernel)",
   "language": "python",
   "name": "python3"
  },
  "language_info": {
   "codemirror_mode": {
    "name": "ipython",
    "version": 3
   },
   "file_extension": ".py",
   "mimetype": "text/x-python",
   "name": "python",
   "nbconvert_exporter": "python",
   "pygments_lexer": "ipython3",
   "version": "3.11.4"
  }
 },
 "nbformat": 4,
 "nbformat_minor": 5
}
